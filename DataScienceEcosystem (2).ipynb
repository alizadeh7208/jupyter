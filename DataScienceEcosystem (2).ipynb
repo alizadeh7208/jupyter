{
 "cells": [
  {
   "cell_type": "markdown",
   "id": "86327940-c532-4da9-b779-842e8b46a68d",
   "metadata": {
    "tags": []
   },
   "source": [
    "## data science tools and ecosystem"
   ]
  },
  {
   "cell_type": "markdown",
   "id": "bd2312d3-aaaf-42fe-bd86-f0bf32466382",
   "metadata": {},
   "source": [
    "in this notebook data science tools and ecosystem are summarized"
   ]
  },
  {
   "cell_type": "markdown",
   "id": "98238633-2f31-41f6-80cb-0be2d2444725",
   "metadata": {},
   "source": [
    "**objectives:**\n",
    "\n",
    "- list popular languages for data science\n",
    "- understand the basics of jupyter notebook\n",
    "- perform simple arithmatics operations in python"
   ]
  },
  {
   "cell_type": "markdown",
   "id": "a24fe830-a9f1-4bcc-ae91-be7cc822b8a0",
   "metadata": {},
   "source": [
    "some of the most used languages by data scientists are :"
   ]
  },
  {
   "cell_type": "markdown",
   "id": "00da0331-f8f1-42c0-aa6c-2d21f2405656",
   "metadata": {},
   "source": [
    "1. python\n",
    "2. R\n",
    "3. SQL"
   ]
  },
  {
   "cell_type": "markdown",
   "id": "11b5fff6-afbe-4c68-b811-773b1192033d",
   "metadata": {},
   "source": [
    "some of the commonly used libraries used by data scientists inlude :"
   ]
  },
  {
   "cell_type": "markdown",
   "id": "b159dda7-d3f1-4eb9-b1ba-dbd505b14e8c",
   "metadata": {},
   "source": [
    "1. numpy\n",
    "2. pandas\n",
    "3. skipy"
   ]
  },
  {
   "cell_type": "markdown",
   "id": "6fcaab37-6b9f-4f63-afa7-c64228a03a13",
   "metadata": {},
   "source": [
    "|data science tools|\n",
    "|------|\n",
    "|jupyter notebook|\n",
    "|Rsudio|\n",
    "|vscode|\n"
   ]
  },
  {
   "cell_type": "markdown",
   "id": "242031b8-5d57-4af5-8c21-39a79b6587da",
   "metadata": {
    "tags": []
   },
   "source": [
    "### below are a few examples of evaluating arithmetic expressions in python :"
   ]
  },
  {
   "cell_type": "code",
   "execution_count": 4,
   "id": "adb93047-5f7a-4e3f-80bd-ae424d125ca4",
   "metadata": {
    "tags": []
   },
   "outputs": [
    {
     "data": {
      "text/plain": [
       "17"
      ]
     },
     "execution_count": 4,
     "metadata": {},
     "output_type": "execute_result"
    }
   ],
   "source": [
    "# this is a simple arithmatic expression to multipy then add integers\n",
    "result = (3*4)+5\n",
    "result"
   ]
  },
  {
   "cell_type": "code",
   "execution_count": 5,
   "id": "6f902d6e-4de8-40b8-ac6d-7606611b0b25",
   "metadata": {
    "tags": []
   },
   "outputs": [
    {
     "data": {
      "text/plain": [
       "3.3333333333333335"
      ]
     },
     "execution_count": 5,
     "metadata": {},
     "output_type": "execute_result"
    }
   ],
   "source": [
    "# this will convert 200 minutes to hiurs by dividing by 60\n",
    "hours = 200/60\n",
    "hours"
   ]
  },
  {
   "cell_type": "markdown",
   "id": "8a24754f-39c6-4399-ad8f-b06958ced3e5",
   "metadata": {},
   "source": [
    "## Author\n",
    "Delaram"
   ]
  },
  {
   "cell_type": "code",
   "execution_count": null,
   "id": "3944e8b7-5403-4fbf-95c0-f1d4f0f8dd5f",
   "metadata": {},
   "outputs": [],
   "source": []
  }
 ],
 "metadata": {
  "kernelspec": {
   "display_name": "Python",
   "language": "python",
   "name": "conda-env-python-py"
  },
  "language_info": {
   "codemirror_mode": {
    "name": "ipython",
    "version": 3
   },
   "file_extension": ".py",
   "mimetype": "text/x-python",
   "name": "python",
   "nbconvert_exporter": "python",
   "pygments_lexer": "ipython3",
   "version": "3.7.12"
  }
 },
 "nbformat": 4,
 "nbformat_minor": 5
}
